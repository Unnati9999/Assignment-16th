{
 "cells": [
  {
   "cell_type": "markdown",
   "id": "33fec4b7-d834-4951-8ade-0b11b0673bb5",
   "metadata": {},
   "source": [
    "Q1. Explain GET and POST methods."
   ]
  },
  {
   "cell_type": "markdown",
   "id": "d6a1fdf2-62c5-428a-bf4d-ac15e77e2e23",
   "metadata": {},
   "source": [
    "GET requests are intended to retrieve data from a server and do not modify the server's state"
   ]
  },
  {
   "cell_type": "markdown",
   "id": "1409d122-4e59-418f-ad3a-8577e2497e30",
   "metadata": {},
   "source": [
    "POST requests are used to send data to the server for processing and may modify the server's state"
   ]
  },
  {
   "cell_type": "code",
   "execution_count": null,
   "id": "05c4ba39-e806-4f1b-8df9-c6a73df47f3c",
   "metadata": {},
   "outputs": [],
   "source": []
  },
  {
   "cell_type": "markdown",
   "id": "a06b9da6-657f-47d4-a9a0-b53762974350",
   "metadata": {},
   "source": [
    "Q2. Why is request used in Flask?"
   ]
  },
  {
   "cell_type": "markdown",
   "id": "8cde0c71-f37e-4313-8d98-ed81384a8e97",
   "metadata": {},
   "source": [
    "The Request, in Flask, is an object that contains all the data sent from the Client to Server."
   ]
  },
  {
   "cell_type": "code",
   "execution_count": null,
   "id": "8c9f582d-b43b-404a-97aa-91241d10ab88",
   "metadata": {},
   "outputs": [],
   "source": []
  },
  {
   "cell_type": "markdown",
   "id": "321217a2-5025-4cb3-9345-8180c4d68ec4",
   "metadata": {},
   "source": [
    "Q3. Why is redirect() used in Flask?"
   ]
  },
  {
   "cell_type": "markdown",
   "id": "1bbf0dff-0381-4022-9db2-7a42a7fb2ffc",
   "metadata": {},
   "source": [
    "A redirect is used in the Flask class to send the user to a particular URL with the status code."
   ]
  },
  {
   "cell_type": "markdown",
   "id": "3071962e-fb5b-4436-83bd-e1145f39834b",
   "metadata": {},
   "source": [
    "Website owners often set up redirects for pages that are broken, contain duplicated content, or were moved to new URLs."
   ]
  },
  {
   "cell_type": "code",
   "execution_count": null,
   "id": "4dcbd2c0-3b8c-4f7e-a33c-2d86305ab19b",
   "metadata": {},
   "outputs": [],
   "source": []
  },
  {
   "cell_type": "markdown",
   "id": "f5d09487-0009-4588-81ab-32d6586296ca",
   "metadata": {},
   "source": [
    "Q4. What are templates in Flask? Why is the render_template() function used?"
   ]
  },
  {
   "cell_type": "markdown",
   "id": "71f934a9-c75b-45b9-be79-d6a12d27bf43",
   "metadata": {},
   "source": [
    "render_template\n",
    "Used to generate output from a template file based on the Jinja2 engine that is found in the application's templates folder. \n",
    "Note that render_template is typically imported directly from the flask package instead of from flask. templating"
   ]
  },
  {
   "cell_type": "markdown",
   "id": "c9b25c9e-f022-43b1-bb68-405087041499",
   "metadata": {},
   "source": [
    "template is rendered with specific data to produce a final document. Flask uses the Jinja template library to render templates. \n",
    "In your application, you will use templates to render HTML which will display in the user's browser."
   ]
  },
  {
   "cell_type": "code",
   "execution_count": null,
   "id": "e45382be-c72f-460c-be1d-b748f952f7ce",
   "metadata": {},
   "outputs": [],
   "source": []
  },
  {
   "cell_type": "markdown",
   "id": "5a3810b3-4200-414f-8733-9ffcd3cd837b",
   "metadata": {},
   "source": [
    "Q5. Create a simple API. Use Postman to test it. Attach the screenshot of the output in the Jupyter Notebook."
   ]
  },
  {
   "cell_type": "code",
   "execution_count": null,
   "id": "0d27f019-b3b8-49f6-be5a-5bafd796d58e",
   "metadata": {},
   "outputs": [],
   "source": []
  }
 ],
 "metadata": {
  "kernelspec": {
   "display_name": "Python 3 (ipykernel)",
   "language": "python",
   "name": "python3"
  },
  "language_info": {
   "codemirror_mode": {
    "name": "ipython",
    "version": 3
   },
   "file_extension": ".py",
   "mimetype": "text/x-python",
   "name": "python",
   "nbconvert_exporter": "python",
   "pygments_lexer": "ipython3",
   "version": "3.10.8"
  }
 },
 "nbformat": 4,
 "nbformat_minor": 5
}
